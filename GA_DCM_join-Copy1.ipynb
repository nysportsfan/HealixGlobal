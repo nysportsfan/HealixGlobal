{
 "cells": [
  {
   "cell_type": "code",
   "execution_count": null,
   "metadata": {},
   "outputs": [],
   "source": [
    "import pandas as pd"
   ]
  },
  {
   "cell_type": "code",
   "execution_count": null,
   "metadata": {},
   "outputs": [],
   "source": [
    "dcm = pd.read_excel(r'C:\\Users\\joshua.kim\\Downloads\\1192052_Kaleo_Floodlight_CTD_20200130_115235_2793119386.xlsx', sheet_name = 'Sheet1'\n",
    "                    )"
   ]
  },
  {
   "cell_type": "code",
   "execution_count": null,
   "metadata": {
    "scrolled": true
   },
   "outputs": [],
   "source": [
    "dcm.columns"
   ]
  },
  {
   "cell_type": "code",
   "execution_count": null,
   "metadata": {},
   "outputs": [],
   "source": [
    "ga = pd.read_excel(r'C:\\Users\\joshua.kim\\Downloads\\1192052_Kaleo_Floodlight_CTD_20200129_135500_2792152284.xlsx'\n",
    "                    )"
   ]
  },
  {
   "cell_type": "code",
   "execution_count": null,
   "metadata": {},
   "outputs": [],
   "source": [
    "ga.columns"
   ]
  },
  {
   "cell_type": "code",
   "execution_count": null,
   "metadata": {},
   "outputs": [],
   "source": [
    "ga = ga.rename(columns={'Campaign':'Placement ID','Ad Content':'Creative ID','Month of Year':'Month'})"
   ]
  },
  {
   "cell_type": "code",
   "execution_count": null,
   "metadata": {
    "scrolled": true
   },
   "outputs": [],
   "source": [
    "def make_int(value):\n",
    "    try:\n",
    "        value = int(value)\n",
    "        return value\n",
    "    except:\n",
    "        pass\n",
    "    \n",
    "ga['Placement ID'] = ga['Placement ID'].apply(make_int)"
   ]
  },
  {
   "cell_type": "code",
   "execution_count": null,
   "metadata": {
    "scrolled": true
   },
   "outputs": [],
   "source": [
    "ga = ga[ga['Placement ID'].notnull()]\n",
    "\n",
    "ga['Placement ID'] = ga['Placement ID'].astype('int64')\n",
    "ga['Creative ID'] = ga['Creative ID'].astype('int64')"
   ]
  },
  {
   "cell_type": "code",
   "execution_count": null,
   "metadata": {
    "scrolled": true
   },
   "outputs": [],
   "source": [
    "def add_dash(value):\n",
    "    value = str(value)[0:4] + '-' + str(value)[4:]\n",
    "    return value"
   ]
  },
  {
   "cell_type": "code",
   "execution_count": null,
   "metadata": {
    "scrolled": true
   },
   "outputs": [],
   "source": [
    "ga['Month'] = ga['Month'].apply(add_dash)"
   ]
  },
  {
   "cell_type": "code",
   "execution_count": null,
   "metadata": {},
   "outputs": [],
   "source": [
    "ga['Month'][0:2]"
   ]
  },
  {
   "cell_type": "code",
   "execution_count": null,
   "metadata": {},
   "outputs": [],
   "source": [
    "join = pd.merge(dcm,ga,how='inner',on=['Placement ID','Creative ID', 'Month'],indicator=True) "
   ]
  },
  {
   "cell_type": "code",
   "execution_count": null,
   "metadata": {},
   "outputs": [],
   "source": [
    "join_left = pd.merge(dcm,ga,how='left',on=['Placement ID','Creative ID', 'Month'],indicator=True)"
   ]
  },
  {
   "cell_type": "code",
   "execution_count": null,
   "metadata": {},
   "outputs": [],
   "source": [
    "join_left = join_left.rename(columns={'Sessions_x':'Sessions','Bounces_x':'Bounces','Pageviews_x':'Pageviews','Session Duration_x':'Session_Duration'})"
   ]
  },
  {
   "cell_type": "code",
   "execution_count": null,
   "metadata": {},
   "outputs": [],
   "source": [
    "join_left.to_excel(r'C:\\Users\\joshua.kim\\Documents\\Kaleo DCM-GA Analysis CTD 1.31.20.xlsx')"
   ]
  },
  {
   "cell_type": "code",
   "execution_count": null,
   "metadata": {},
   "outputs": [],
   "source": []
  },
  {
   "cell_type": "code",
   "execution_count": null,
   "metadata": {},
   "outputs": [],
   "source": []
  }
 ],
 "metadata": {
  "kernelspec": {
   "display_name": "Python 3",
   "language": "python",
   "name": "python3"
  },
  "language_info": {
   "codemirror_mode": {
    "name": "ipython",
    "version": 3
   },
   "file_extension": ".py",
   "mimetype": "text/x-python",
   "name": "python",
   "nbconvert_exporter": "python",
   "pygments_lexer": "ipython3",
   "version": "3.7.3"
  }
 },
 "nbformat": 4,
 "nbformat_minor": 2
}
